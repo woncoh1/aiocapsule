{
 "cells": [
  {
   "cell_type": "markdown",
   "metadata": {},
   "source": [
    "# Core\n",
    "> The capsule: session, request, response all-in-one"
   ]
  },
  {
   "cell_type": "code",
   "execution_count": 2,
   "metadata": {
    "execution": {
     "iopub.execute_input": "2023-07-13T12:27:02.837799Z",
     "iopub.status.busy": "2023-07-13T12:27:02.837099Z",
     "iopub.status.idle": "2023-07-13T12:27:02.849401Z",
     "shell.execute_reply": "2023-07-13T12:27:02.841279Z",
     "shell.execute_reply.started": "2023-07-13T12:27:02.837764Z"
    },
    "tags": []
   },
   "outputs": [],
   "source": [
    "#| default_exp core"
   ]
  },
  {
   "cell_type": "code",
   "execution_count": 3,
   "metadata": {
    "execution": {
     "iopub.execute_input": "2023-07-13T12:27:03.078999Z",
     "iopub.status.busy": "2023-07-13T12:27:03.078171Z",
     "iopub.status.idle": "2023-07-13T12:27:03.420081Z",
     "shell.execute_reply": "2023-07-13T12:27:03.419286Z",
     "shell.execute_reply.started": "2023-07-13T12:27:03.078966Z"
    },
    "tags": []
   },
   "outputs": [],
   "source": [
    "#| export\n",
    "from __future__ import annotations\n",
    "\n",
    "import aiohttp"
   ]
  },
  {
   "cell_type": "code",
   "execution_count": 4,
   "metadata": {
    "execution": {
     "iopub.execute_input": "2023-07-13T12:27:04.562119Z",
     "iopub.status.busy": "2023-07-13T12:27:04.560753Z",
     "iopub.status.idle": "2023-07-13T12:27:04.611490Z",
     "shell.execute_reply": "2023-07-13T12:27:04.610699Z",
     "shell.execute_reply.started": "2023-07-13T12:27:04.562083Z"
    },
    "tags": []
   },
   "outputs": [],
   "source": [
    "#| hide\n",
    "from nbdev.showdoc import *"
   ]
  },
  {
   "cell_type": "code",
   "execution_count": 5,
   "metadata": {
    "execution": {
     "iopub.execute_input": "2023-07-13T12:27:13.174073Z",
     "iopub.status.busy": "2023-07-13T12:27:13.173684Z",
     "iopub.status.idle": "2023-07-13T12:27:13.224181Z",
     "shell.execute_reply": "2023-07-13T12:27:13.213646Z",
     "shell.execute_reply.started": "2023-07-13T12:27:13.174047Z"
    },
    "tags": []
   },
   "outputs": [],
   "source": [
    "#| export\n",
    "async def send_http_request(\n",
    "    method:str,\n",
    "    url:str,\n",
    "    headers:dict|None=None,\n",
    "    params:dict|None=None,\n",
    "    data:dict|str|None=None,\n",
    "    json:dict|None=None,\n",
    "    proxy:str|None=None,\n",
    "    auth:aiohttp.BasicAuth|None=None,\n",
    "    text:bool=False,\n",
    ") -> str|dict:\n",
    "    \"Asynchronously send a HTTP request with a new session and return the response.\"\n",
    "    async with aiohttp.ClientSession(\n",
    "        headers=headers,\n",
    "        auth=auth,\n",
    "    ) as session:\n",
    "        methods = {\n",
    "            'GET': session.get,\n",
    "            'POST': session.post,\n",
    "            'DELETE': session.delete,\n",
    "            'PUT': session.put,\n",
    "        }\n",
    "        request = methods.get(\n",
    "            method,\n",
    "            session.get,\n",
    "        )\n",
    "        async with request(\n",
    "            url,\n",
    "            params=params,\n",
    "            data=data,\n",
    "            json=json,\n",
    "            proxy=proxy,\n",
    "        ) as response:\n",
    "            if text:\n",
    "                return await response.text()\n",
    "            else:\n",
    "                return await response.json()"
   ]
  },
  {
   "cell_type": "markdown",
   "metadata": {},
   "source": [
    "# text\n",
    "text is a boolean flag denoting whether response should be returned as a string or json (dict)."
   ]
  },
  {
   "cell_type": "code",
   "execution_count": 6,
   "metadata": {
    "execution": {
     "iopub.execute_input": "2023-07-13T12:27:14.923049Z",
     "iopub.status.busy": "2023-07-13T12:27:14.922506Z",
     "iopub.status.idle": "2023-07-13T12:27:15.005824Z",
     "shell.execute_reply": "2023-07-13T12:27:15.004178Z",
     "shell.execute_reply.started": "2023-07-13T12:27:14.923018Z"
    },
    "tags": []
   },
   "outputs": [
    {
     "data": {
      "text/plain": [
       "'<!doctype html>\\n<html>\\n<head>\\n    <title>Example Domain</title>\\n\\n    <meta charset=\"utf-8\" />\\n    <meta http-equiv=\"Content-type\" content=\"text/html; charset=utf-8\" />\\n    <meta name=\"viewport\" content=\"width=device-width, initial-scale=1\" />\\n    <style type=\"text/css\">\\n    body {\\n        background-color: #f0f0f2;\\n        margin: 0;\\n        padding: 0;\\n        font-family: -apple-system, system-ui, BlinkMacSystemFont, \"Segoe UI\", \"Open Sans\", \"Helvetica Neue\", Helvetica, Arial, sans-serif;\\n        \\n    }\\n    div {\\n        width: 600px;\\n        margin: 5em auto;\\n        padding: 2em;\\n        background-color: #fdfdff;\\n        border-radius: 0.5em;\\n        box-shadow: 2px 3px 7px 2px rgba(0,0,0,0.02);\\n    }\\n    a:link, a:visited {\\n        color: #38488f;\\n        text-decoration: none;\\n    }\\n    @media (max-width: 700px) {\\n        div {\\n            margin: 0 auto;\\n            width: auto;\\n        }\\n    }\\n    </style>    \\n</head>\\n\\n<body>\\n<div>\\n    <h1>Example Domain</h1>\\n    <p>This domain is for use in illustrative examples in documents. You may use this\\n    domain in literature without prior coordination or asking for permission.</p>\\n    <p><a href=\"https://www.iana.org/domains/example\">More information...</a></p>\\n</div>\\n</body>\\n</html>\\n'"
      ]
     },
     "execution_count": 6,
     "metadata": {},
     "output_type": "execute_result"
    }
   ],
   "source": [
    "await send_http_request('GET', 'https://example.com/', text=True)"
   ]
  },
  {
   "cell_type": "code",
   "execution_count": 7,
   "metadata": {
    "execution": {
     "iopub.execute_input": "2023-07-13T12:27:15.707762Z",
     "iopub.status.busy": "2023-07-13T12:27:15.703074Z",
     "iopub.status.idle": "2023-07-13T12:27:15.830972Z",
     "shell.execute_reply": "2023-07-13T12:27:15.827237Z",
     "shell.execute_reply.started": "2023-07-13T12:27:15.707724Z"
    },
    "tags": []
   },
   "outputs": [
    {
     "data": {
      "text/plain": [
       "{'gecko_says': '(V3) To the Moon!'}"
      ]
     },
     "execution_count": 7,
     "metadata": {},
     "output_type": "execute_result"
    }
   ],
   "source": [
    "await send_http_request('GET', 'https://api.coingecko.com/api/v3/ping', text=False)"
   ]
  },
  {
   "cell_type": "code",
   "execution_count": 8,
   "metadata": {
    "execution": {
     "iopub.execute_input": "2023-07-13T12:27:17.287959Z",
     "iopub.status.busy": "2023-07-13T12:27:17.287287Z",
     "iopub.status.idle": "2023-07-13T12:27:17.309355Z",
     "shell.execute_reply": "2023-07-13T12:27:17.308453Z",
     "shell.execute_reply.started": "2023-07-13T12:27:17.287919Z"
    },
    "tags": []
   },
   "outputs": [],
   "source": [
    "#| hide\n",
    "import nbdev; nbdev.nbdev_export()"
   ]
  },
  {
   "cell_type": "code",
   "execution_count": null,
   "metadata": {},
   "outputs": [],
   "source": []
  }
 ],
 "metadata": {
  "kernelspec": {
   "display_name": "saturn (Python 3)",
   "language": "python",
   "name": "python3"
  },
  "language_info": {
   "codemirror_mode": {
    "name": "ipython",
    "version": 3
   },
   "file_extension": ".py",
   "mimetype": "text/x-python",
   "name": "python",
   "nbconvert_exporter": "python",
   "pygments_lexer": "ipython3",
   "version": "3.9.15"
  }
 },
 "nbformat": 4,
 "nbformat_minor": 4
}
