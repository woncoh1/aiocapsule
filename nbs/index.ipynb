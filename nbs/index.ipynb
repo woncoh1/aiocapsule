{
 "cells": [
  {
   "cell_type": "code",
   "execution_count": 1,
   "metadata": {
    "execution": {
     "iopub.execute_input": "2023-07-13T12:55:28.977245Z",
     "iopub.status.busy": "2023-07-13T12:55:28.976826Z",
     "iopub.status.idle": "2023-07-13T12:55:29.146396Z",
     "shell.execute_reply": "2023-07-13T12:55:29.145563Z",
     "shell.execute_reply.started": "2023-07-13T12:55:28.977208Z"
    },
    "tags": []
   },
   "outputs": [],
   "source": [
    "#| hide\n",
    "from aiocapsule.core import *"
   ]
  },
  {
   "cell_type": "markdown",
   "metadata": {},
   "source": [
    "# aiocapsule\n",
    "\n",
    "> Simple wrapper for AIOHTTP client session, request and response"
   ]
  },
  {
   "cell_type": "markdown",
   "metadata": {},
   "source": [
    "This is a minimal, single-function package containing an AIOHTTP wrapper designed for high-throughput asynchronous HTTP requests, possibly using HTTP proxy and basic authentication."
   ]
  },
  {
   "cell_type": "markdown",
   "metadata": {},
   "source": [
    "## Install"
   ]
  },
  {
   "cell_type": "markdown",
   "metadata": {},
   "source": [
    "```sh\n",
    "pip install aiocapsule\n",
    "```"
   ]
  },
  {
   "cell_type": "markdown",
   "metadata": {},
   "source": [
    "## How to use"
   ]
  },
  {
   "cell_type": "markdown",
   "metadata": {},
   "source": [
    "A simple call returning a JSON as a dictionary:"
   ]
  },
  {
   "cell_type": "code",
   "execution_count": 2,
   "metadata": {
    "execution": {
     "iopub.execute_input": "2023-07-13T12:55:30.622433Z",
     "iopub.status.busy": "2023-07-13T12:55:30.621904Z",
     "iopub.status.idle": "2023-07-13T12:55:30.725839Z",
     "shell.execute_reply": "2023-07-13T12:55:30.724355Z",
     "shell.execute_reply.started": "2023-07-13T12:55:30.622402Z"
    },
    "tags": []
   },
   "outputs": [
    {
     "data": {
      "text/plain": [
       "{'gecko_says': '(V3) To the Moon!'}"
      ]
     },
     "execution_count": 2,
     "metadata": {},
     "output_type": "execute_result"
    }
   ],
   "source": [
    "await send_http_request('GET', 'https://api.coingecko.com/api/v3/ping')"
   ]
  },
  {
   "cell_type": "code",
   "execution_count": null,
   "metadata": {},
   "outputs": [],
   "source": []
  }
 ],
 "metadata": {
  "kernelspec": {
   "display_name": "saturn (Python 3)",
   "language": "python",
   "name": "python3"
  },
  "language_info": {
   "codemirror_mode": {
    "name": "ipython",
    "version": 3
   },
   "file_extension": ".py",
   "mimetype": "text/x-python",
   "name": "python",
   "nbconvert_exporter": "python",
   "pygments_lexer": "ipython3",
   "version": "3.9.15"
  }
 },
 "nbformat": 4,
 "nbformat_minor": 4
}
